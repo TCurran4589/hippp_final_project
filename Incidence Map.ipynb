{
 "cells": [
  {
   "cell_type": "code",
   "execution_count": 166,
   "metadata": {},
   "outputs": [
    {
     "data": {
      "text/plain": [
       "Venue Type          object\n",
       "Name                object\n",
       "Address             object\n",
       "City                object\n",
       "State               object\n",
       "ZIP Code             int64\n",
       "Full Address        object\n",
       "Latitude           float64\n",
       "Longitude          float64\n",
       "Community Areas     object\n",
       "dtype: object"
      ]
     },
     "execution_count": 166,
     "metadata": {},
     "output_type": "execute_result"
    }
   ],
   "source": [
    "import geopandas as gpd\n",
    "import pandas as pd\n",
    "import folium as f\n",
    "ca = gpd.read_file(\"data_sources/community_areas.geojson\")\n",
    "male_chl = pd.read_csv(\"data_sources/chlamydia_males.csv\")\n",
    "male_gon = pd.read_csv(\"data_sources/gonorrhea_males.csv\")\n",
    "female_chl = pd.read_csv(\"data_sources/chlamydia_females.csv\")\n",
    "female_gon = pd.read_csv(\"data_sources/gonorrhea_females.csv\")\n",
    "\n",
    "centers = pd.read_csv(\"data_sources/centers_clean.csv\")\n",
    "centers['Longitude'] = centers['Longitude'].astype(float)\n",
    "\n",
    "centers.dtypes\n"
   ]
  },
  {
   "cell_type": "code",
   "execution_count": 167,
   "metadata": {
    "collapsed": true
   },
   "outputs": [],
   "source": [
    "male_chl = male_chl[[\"Community Area Name\",\n",
    "                     \"Incidence Rate 2000\",\n",
    "                     \"Incidence Rate 2001\",\n",
    "                     \"Incidence Rate 2002\",\n",
    "                     \"Incidence Rate 2003\",\n",
    "                     \"Incidence Rate 2004\",\n",
    "                     \"Incidence Rate 2005\",\n",
    "                     \"Incidence Rate 2006\",\n",
    "                     \"Incidence Rate 2007\",\n",
    "                     \"Incidence Rate 2008\",\n",
    "                     \"Incidence Rate 2009\",\n",
    "                     \"Incidence Rate 2010\",\n",
    "                     \"Incidence Rate 2011\",\n",
    "                     \"Incidence Rate 2012\",\n",
    "                     \"Incidence Rate 2013\",\n",
    "                     \"Incidence Rate 2014\"]]\n",
    "\n",
    "\n",
    "\n",
    "male_gon = male_gon[[\"Community Area Name\",\n",
    "                     \"Incidence Rate 2000\",\n",
    "                     \"Incidence Rate 2001\",\n",
    "                     \"Incidence Rate 2002\",\n",
    "                     \"Incidence Rate 2003\",\n",
    "                     \"Incidence Rate 2004\",\n",
    "                     \"Incidence Rate 2005\",\n",
    "                     \"Incidence Rate 2006\",\n",
    "                     \"Incidence Rate 2007\",\n",
    "                     \"Incidence Rate 2008\",\n",
    "                     \"Incidence Rate 2009\",\n",
    "                     \"Incidence Rate 2010\",\n",
    "                     \"Incidence Rate 2011\",\n",
    "                     \"Incidence Rate 2012\",\n",
    "                     \"Incidence Rate 2013\",\n",
    "                     \"Incidence Rate 2014\"]]\n",
    "\n",
    "\n",
    "male_gon_long = pd.melt(male_gon,\n",
    "                        id_vars = ['Community Area Name'],\n",
    "                        var_name = \"Temp\",\n",
    "                        value_name = \"Incidences\")\n",
    "\n",
    "male_chl_long = pd.melt(male_chl,\n",
    "                        id_vars = ['Community Area Name'],\n",
    "                        var_name = \"Temp\",\n",
    "                        value_name = \"Incidences\")\n",
    "\n",
    "\n",
    "male_gon_long['STI Name'] = 'GON'\n",
    "male_chl_long['STI Name'] = 'CHL'\n",
    "male_gon_long['Gender'] = 'MALE'\n",
    "male_chl_long['Gender'] = 'MALE'\n",
    "male_chl_long['Year'] = male_chl_long['Temp'].str.extract(r'([0-9]{4})', expand = True)\n",
    "male_gon_long['Year'] = male_gon_long['Temp'].str.extract(r'([0-9]{4})', expand = True)\n",
    "male_sti = [male_gon_long, male_chl_long]\n",
    "\n",
    "male_sti = pd.concat(male_sti)\n",
    "male_sti = male_sti[['Community Area Name',\n",
    "                   'Incidences',\n",
    "                   'STI Name',\n",
    "                   'Gender',\n",
    "                   'Year']]\n",
    "male_sti = male_sti.fillna(0)\n",
    "male_sti = male_sti.replace(\"<5\", 0)"
   ]
  },
  {
   "cell_type": "code",
   "execution_count": 168,
   "metadata": {
    "collapsed": true
   },
   "outputs": [],
   "source": [
    "female_chl = female_chl[[\"Community Area Name\",\n",
    "                     \"Incidence Rate 2000\",\n",
    "                     \"Incidence Rate 2001\",\n",
    "                     \"Incidence Rate 2002\",\n",
    "                     \"Incidence Rate 2003\",\n",
    "                     \"Incidence Rate 2004\",\n",
    "                     \"Incidence Rate 2005\",\n",
    "                     \"Incidence Rate 2006\",\n",
    "                     \"Incidence Rate 2007\",\n",
    "                     \"Incidence Rate 2008\",\n",
    "                     \"Incidence Rate 2009\",\n",
    "                     \"Incidence Rate 2010\",\n",
    "                     \"Incidence Rate 2011\",\n",
    "                     \"Incidence Rate 2012\",\n",
    "                     \"Incidence Rate 2013\",\n",
    "                     \"Incidence Rate 2014\"]]\n",
    "\n",
    "\n",
    "\n",
    "female_gon = female_gon[[\"Community Area Name\",\n",
    "                     \"Incidence Rate 2000\",\n",
    "                     \"Incidence Rate 2001\",\n",
    "                     \"Incidence Rate 2002\",\n",
    "                     \"Incidence Rate 2003\",\n",
    "                     \"Incidence Rate 2004\",\n",
    "                     \"Incidence Rate 2005\",\n",
    "                     \"Incidence Rate 2006\",\n",
    "                     \"Incidence Rate 2007\",\n",
    "                     \"Incidence Rate 2008\",\n",
    "                     \"Incidence Rate 2009\",\n",
    "                     \"Incidence Rate 2010\",\n",
    "                     \"Incidence Rate 2011\",\n",
    "                     \"Incidence Rate 2012\",\n",
    "                     \"Incidence Rate 2013\",\n",
    "                     \"Incidence Rate 2014\"]]\n",
    "\n",
    "\n",
    "female_gon_long = pd.melt(female_gon,\n",
    "                        id_vars = ['Community Area Name'],\n",
    "                        var_name = \"Temp\",\n",
    "                        value_name = \"Incidences\")\n",
    "\n",
    "female_chl_long = pd.melt(female_chl,\n",
    "                        id_vars = ['Community Area Name'],\n",
    "                        var_name = \"Temp\",\n",
    "                        value_name = \"Incidences\")\n",
    "\n",
    "\n",
    "female_gon_long['STI Name'] = 'GON'\n",
    "female_chl_long['STI Name'] = 'CHL'\n",
    "female_gon_long['Gender'] = 'FEMALE'\n",
    "female_chl_long['Gender'] = 'FEMALE'\n",
    "female_chl_long['Year'] = female_chl_long['Temp'].str.extract(r'([0-9]{4})', expand = True)\n",
    "female_gon_long['Year'] = female_gon_long['Temp'].str.extract(r'([0-9]{4})', expand = True)\n",
    "female_sti = [female_gon_long, female_chl_long]\n",
    "\n",
    "female_sti = pd.concat(female_sti)\n",
    "female_sti = female_sti[['Community Area Name',\n",
    "                   'Incidences',\n",
    "                   'STI Name',\n",
    "                   'Gender',\n",
    "                   'Year']]\n",
    "female_sti = female_sti.fillna(0)\n",
    "female_sti = female_sti.replace(\"<5\", 0)\n",
    "\n"
   ]
  },
  {
   "cell_type": "code",
   "execution_count": 169,
   "metadata": {
    "collapsed": true
   },
   "outputs": [],
   "source": [
    "incidence_sti = [male_sti, female_sti]\n",
    "incidence_sti = pd.concat(incidence_sti)\n",
    "incidence_sti = incidence_sti[(incidence_sti[\"Community Area Name\"]!= \"Chicago\") &(incidence_sti[\"Community Area Name\"]!= \"Unknown\")]\n",
    "incidence_sti['Community Area Name'] = incidence_sti['Community Area Name'].str.upper()\n",
    "\n",
    "incidence_sti.to_csv(\"data_sources/incidences_sti.csv\")"
   ]
  },
  {
   "cell_type": "code",
   "execution_count": 170,
   "metadata": {
    "collapsed": true
   },
   "outputs": [],
   "source": [
    "#mask incidence to show only 2014 values\n",
    "incidence_sti_2014 = incidence_sti[incidence_sti['Year'] == '2014']\n",
    "\n",
    "#group by to get total incidence rate\n",
    "\n",
    "incidence_sti_2014 = incidence_sti_2014.groupby(\"Community Area Name\").sum().reset_index()"
   ]
  },
  {
   "cell_type": "code",
   "execution_count": 171,
   "metadata": {},
   "outputs": [],
   "source": [
    "x = ca.merge(incidence_sti_2014, left_on = 'community',\n",
    "            right_on = \"Community Area Name\",\n",
    "            how = 'inner')"
   ]
  },
  {
   "cell_type": "code",
   "execution_count": 172,
   "metadata": {
    "collapsed": true
   },
   "outputs": [],
   "source": [
    "m = f.Map(location = [41.881832, -87.623177],\n",
    "              tiles = 'cartodbpositron',\n",
    "              zoom_start = 10)\n",
    "\n",
    "\n",
    "ft = \"Number of Reported Cases of STI\"\n",
    "\n",
    "colormap = f.LinearColormap((\"Green\", \"Yellow\",\"Orange\", \"Red\"), \n",
    "                                 vmin = min(x['Incidences']), \n",
    "                                 vmax = max(x['Incidences']) *.5,\n",
    "                                 caption = \"Number of Incidences\")\n",
    "\n",
    "\n",
    "colormap.add_to(m)\n",
    "\n",
    "f.GeoJson(x,\n",
    "               style_function = lambda feature: { \n",
    "                  'fillColor': colormap(feature['properties'][\"Incidences\"]),\n",
    "                   \"color\" : \"k\", \n",
    "                   \"weight\" : 0.3, \n",
    "                   \"fillOpacity\" : 0.5,\n",
    "                   \"popup\": feature['properties']['community']\n",
    "               },\n",
    "         name = \"Community Areas\").add_to(m)\n",
    "\n",
    "for l in range(0, len(centers)-1):\n",
    "    lat = centers['Latitude'][l]\n",
    "    lng = centers['Longitude'][l]\n",
    "    name = centers['Name'][l]\n",
    "    \n",
    "    f.Marker([lat, lng],\n",
    "             popup = name).add_to(m)\n",
    "\n",
    "\n",
    "f.LayerControl().add_to(m)\n",
    "m.save(\"incidence_map.html\")\n"
   ]
  },
  {
   "cell_type": "code",
   "execution_count": null,
   "metadata": {
    "collapsed": true
   },
   "outputs": [],
   "source": []
  }
 ],
 "metadata": {
  "kernelspec": {
   "display_name": "Python 3",
   "language": "python",
   "name": "python3"
  },
  "language_info": {
   "codemirror_mode": {
    "name": "ipython",
    "version": 3
   },
   "file_extension": ".py",
   "mimetype": "text/x-python",
   "name": "python",
   "nbconvert_exporter": "python",
   "pygments_lexer": "ipython3",
   "version": "3.6.1"
  }
 },
 "nbformat": 4,
 "nbformat_minor": 2
}
