{
 "cells": [
  {
   "cell_type": "code",
   "execution_count": 360,
   "metadata": {},
   "outputs": [],
   "source": [
    "import pandas as pd\n",
    "import numpy as np\n",
    "import string\n",
    "import json\n",
    "import ast\n",
    "import plotly\n",
    "import pprint\n",
    "import plotly.plotly as py\n",
    "import plotly.graph_objs as graph_objs\n",
    "import folium\n",
    "from branca.utilities import split_six\n",
    "\n",
    "\n",
    "plotly.tools.set_credentials_file(username='tcurran4589', api_key='daaMACDepMRaSr3cjH6j')"
   ]
  },
  {
   "cell_type": "code",
   "execution_count": 2,
   "metadata": {
    "collapsed": true
   },
   "outputs": [],
   "source": [
    "#import centers data\n",
    "centers = pd.read_csv(\"condom_dist_u.csv\")\n",
    "centers = centers[['Venue Type', 'Name', 'Address','State', 'ZIP Code', 'Community Areas']]\n",
    "centers['City'] = 'Chicago'"
   ]
  },
  {
   "cell_type": "code",
   "execution_count": 55,
   "metadata": {
    "collapsed": true
   },
   "outputs": [],
   "source": [
    "#import STI information\n",
    "male_chl = pd.read_csv(\"chlamydia_males.csv\")\n",
    "male_chl = male_chl[[\"Community Area Name\",\n",
    "          \"CASES 2001 Male 15-44\",\n",
    "          \"CASES 2002 Male 15-44\",\n",
    "          \"CASES 2003 Male 15-44\",\n",
    "          \"CASES 2004 Male 15-44\",\n",
    "          \"CASES 2005 Male 15-44\",\n",
    "          \"CASES 2006 Male 15-44\",\n",
    "          \"CASES 2007 Male 15-44\",\n",
    "          \"CASES 2008 Male 15-44\",\n",
    "          \"CASES 2009 Male 15-44\",\n",
    "          \"CASES 2010 Male 15-44\",\n",
    "          \"CASES 2011 Male 15-44\",\n",
    "          \"CASES 2012 MALE 15-44\",\n",
    "          \"CASES 2013 Male 15-44\",\n",
    "          \"CASES 2014 Male 15-44\"\n",
    "         ]]\n",
    "\n",
    "male_gon = pd.read_csv(\"gonorrhea_males.csv\")\n",
    "male_gon = male_gon[[\"Community Area Name\",\n",
    "                  \"Cases 2001 Male 15-44\",\n",
    "                  \"Cases 2002 Male 15-44\",\n",
    "                  \"Cases 2003 Male 15-44\",\n",
    "                  \"Cases 2004 Male 15-44\",\n",
    "                  \"Cases 2005 Male 15-44\",\n",
    "                  \"Cases 2006 Male 15-44\",\n",
    "                  \"Cases 2007 Male 15-44\",\n",
    "                  \"Cases 2008 Male 15-44\",\n",
    "                  \"Cases 2009 Male 15-44\",\n",
    "                  \"Cases 2010 Male 15-44\",\n",
    "                  \"Cases 2011 Male 15-44\",\n",
    "                  \"Cases 2012 Male 15-44\",\n",
    "                  \"Cases 2013 Male 15-44\",\n",
    "                  \"Cases 2014 Male 15-44\"\n",
    "         ]]\n",
    "\n",
    "female_chl = pd.read_csv(\"chlamydia_females.csv\")\n",
    "female_chl = female_chl[[\"Community Area Name\",\n",
    "                        \"Cases 2000 Female 15-44\",\n",
    "                        \"Cases 2001 Female 15-44\",\n",
    "                        \"Cases 2002 Female 15-44\",\n",
    "                        \"Cases 2003 Female 15-44\",\n",
    "                        \"Cases 2004 Female 15-44\",\n",
    "                        \"Cases 2005 Female 15-44\",\n",
    "                        \"Cases 2006 Female 15-44\",\n",
    "                        \"Cases 2007 Female 15-44\",\n",
    "                        \"Cases 2008 Female 15-44\",\n",
    "                        \"Cases 2009 Female 15-44\",\n",
    "                        \"Cases 2010 Female 15-44\",\n",
    "                        \"Cases 2011 Female 15-44\",\n",
    "                        \"Cases 2012 Female 15-44\",\n",
    "                        \"Cases 2013 Female 15-44\",\n",
    "                        \"Cases 2014 Female 15-44\"]]\n",
    "\n",
    "\n",
    "female_gon = pd.read_csv(\"gonorrhea_females.csv\")\n",
    "female_gon = female_gon[[\"Community Area Name\",\n",
    "                        \"Cases 2000 Female 15-44\",\n",
    "                        \"Cases 2001 Female 15-44\",\n",
    "                        \"Cases 2002 Female 15-44\",\n",
    "                        \"Cases 2003 Female 15-44\",\n",
    "                        \"Cases 2004 Female 15-44\",\n",
    "                        \"Cases 2005 Female 15-44\",\n",
    "                        \"Cases 2006 Female 15-44\",\n",
    "                        \"Cases 2007 Female 15-44\",\n",
    "                        \"Cases 2008 Female 15-44\",\n",
    "                        \"Cases 2009 Female 15-44\",\n",
    "                        \"Cases 2010 Female 15-44\",\n",
    "                        \"Cases 2011 Female 15-44\",\n",
    "                        \"Cases 2012 Female 15-44\",\n",
    "                        \"Cases 2013 Female 15-44\",\n",
    "                        \"Cases 2014 Female 15-44\"]]"
   ]
  },
  {
   "cell_type": "code",
   "execution_count": 67,
   "metadata": {},
   "outputs": [],
   "source": [
    "#merge datasets\n",
    "chl = male_chl.merge(female_chl, left_on = 'Community Area Name', right_on = 'Community Area Name', how = 'inner')\n",
    "\n",
    "gon = male_gon.merge(female_gon, left_on = 'Community Area Name', right_on = 'Community Area Name', how = 'inner')"
   ]
  },
  {
   "cell_type": "code",
   "execution_count": 221,
   "metadata": {},
   "outputs": [
    {
     "data": {
      "text/plain": [
       "numpy.float64"
      ]
     },
     "execution_count": 221,
     "metadata": {},
     "output_type": "execute_result"
    }
   ],
   "source": [
    "#Converting the data frame to make it longer\n",
    "#pd.melt(df, id_vars=['column_A', 'column_B', 'column_C'], var_name='Year', value_name='Value')\n",
    "\n",
    "chl_long = pd.melt(chl, \n",
    "                id_vars = ['Community Area Name'],\n",
    "                var_name = \"Cases\",\n",
    "                value_name = \"Reported Cases\")\n",
    "\n",
    "\n",
    "chl_long['Year'] = chl_long['Cases'].str.extract(r'([0-9]{4})', expand = True)\n",
    "\n",
    "chl_long['Gender'] = chl_long['Cases'].str.extract(r'(Female|Male)', expand = True)\n",
    "\n",
    "gon_long = pd.melt(gon, \n",
    "                id_vars = ['Community Area Name'],\n",
    "                var_name = \"Cases\",\n",
    "                value_name = \"Reported Cases\")\n",
    "\n",
    "\n",
    "gon_long['Year'] = gon_long['Cases'].str.extract(r'([0-9]{4})', expand = True)\n",
    "\n",
    "gon_long['Gender'] = gon_long['Cases'].str.extract(r'(Female|Male)', expand = True)\n",
    "\n",
    "gon_long['Community Area Name'] = gon_long['Community Area Name'].str.upper()\n",
    "chl_long['Community Area Name'] = chl_long['Community Area Name'].str.upper()\n",
    "\n",
    "type(chl_long['Reported Cases'][0])"
   ]
  },
  {
   "cell_type": "code",
   "execution_count": 148,
   "metadata": {},
   "outputs": [],
   "source": [
    "#mapbox_access_token = pk.eyJ1IjoidGN1cnJhbjQ1ODkiLCJhIjoiY2ltbWRxc3FmMDM1NXRxa3E0Ymp3OGJscSJ9.xRqKXR3MEfr3ZfBcP1yqCg\n",
    "#community_areas.geojson\n",
    "with open('community_areas.geojson') as g:\n",
    "    chi_comm_shape = json.load(g)"
   ]
  },
  {
   "cell_type": "code",
   "execution_count": 149,
   "metadata": {},
   "outputs": [],
   "source": [
    "#creates properties for STI rates that are dictionaries\n",
    "\n",
    "names = []\n",
    "\n",
    "for ca_names in range(0, len(chi_comm_shape['features'])):\n",
    "    name = chi_comm_shape['features'][ca_names]['properties']['community']\n",
    "    names.append(name)\n",
    "    chi_comm_shape['features'][ca_names]['properties']['STI_Rates'] = {\"chlamydia\":{\"male\":{},\"female\":{}},\n",
    "                                                            \"gonorrhea\":{\"male\":{},\"female\":{}}}"
   ]
  },
  {
   "cell_type": "code",
   "execution_count": 150,
   "metadata": {},
   "outputs": [],
   "source": [
    "#loop through the gonorrhea dataframe first\n",
    "for community in range(0, len(chi_comm_shape['features'])):\n",
    "    for i in range(0, len(gon_long)):\n",
    "        ca_name = chi_comm_shape['features'][community]['properties']['community']\n",
    "        year = gon_long['Year'][i]\n",
    "        rate = gon_long['Reported Cases'][i]\n",
    "        if gon_long['Community Area Name'][i] == ca_name:\n",
    "            if gon_long['Gender'][i] == 'Female':\n",
    "                chi_comm_shape['features'][community]['properties']['STI_Rates']['gonorrhea']['female'][year]=rate\n",
    "            else:\n",
    "                chi_comm_shape['features'][community]['properties']['STI_Rates']['gonorrhea']['male'][year]=rate\n",
    "                \n",
    "                \n",
    "for community in range(0, len(chi_comm_shape['features'])):\n",
    "    for j in range(0, len(chl_long)):\n",
    "        ca_name = chi_comm_shape['features'][community]['properties']['community']\n",
    "        year = chl_long['Year'][j]\n",
    "        rate = chl_long['Reported Cases'][j]\n",
    "        if chl_long['Community Area Name'][j] == ca_name:\n",
    "            if chl_long['Gender'][j] == 'Female':\n",
    "                chi_comm_shape['features'][community]['properties']['STI_Rates']['chlamydia']['female'][year]=rate\n",
    "            else:\n",
    "                chi_comm_shape['features'][community]['properties']['STI_Rates']['chlamydia']['male'][year]=rate"
   ]
  },
  {
   "cell_type": "code",
   "execution_count": 151,
   "metadata": {},
   "outputs": [],
   "source": [
    "#mapbox access token = pk.eyJ1IjoidGN1cnJhbjQ1ODkiLCJhIjoiY2ltbWRxc3FmMDM1NXRxa3E0Ymp3OGJscSJ9.xRqKXR3MEfr3ZfBcP1yqCg\n",
    "mapbox_token = \"pk.eyJ1IjoidGN1cnJhbjQ1ODkiLCJhIjoiY2ltbWRxc3FmMDM1NXRxa3E0Ymp3OGJscSJ9.xRqKXR3MEfr3ZfBcP1yqCg\""
   ]
  },
  {
   "cell_type": "code",
   "execution_count": 171,
   "metadata": {},
   "outputs": [
    {
     "data": {
      "text/plain": [
       "\"#41.881832, -87.623177.\\n\\ndata = graph_objs.Data([\\n    graph_objs.Scattermapbox(\\n        lat = ['41.881832'],\\n        lon = ['-87.623177'],\\n        mode = 'markers'\\n    )\\n])\\nlayout = graph_objs.Layout(\\n\\n    autosize = False,\\n    hovermode = 'closest',\\n    mapbox = dict(\\n        layers = [\\n            dict(\\n                sourcetype = 'geojson',\\n                source = chi_comm_shape,\\n                type = 'fill',\\n                color = 'rgba(40,0,113,0.8)'\\n            )\\n        ],\\n        bearing = 0,\\n        center = dict(lat=41.881832, lon = -87.623177),\\n        pitch = 0,\\n        zoom = 9, \\n        style = 'light'\\n    ),\\n)\\n\\nfig = dict(data = data, layout = layout)\\npy.iplot(fig)\""
      ]
     },
     "execution_count": 171,
     "metadata": {},
     "output_type": "execute_result"
    }
   ],
   "source": [
    "'''#41.881832, -87.623177.\n",
    "\n",
    "data = graph_objs.Data([\n",
    "    graph_objs.Scattermapbox(\n",
    "        lat = ['41.881832'],\n",
    "        lon = ['-87.623177'],\n",
    "        mode = 'markers'\n",
    "    )\n",
    "])\n",
    "layout = graph_objs.Layout(\n",
    "\n",
    "    autosize = False,\n",
    "    hovermode = 'closest',\n",
    "    mapbox = dict(\n",
    "        layers = [\n",
    "            dict(\n",
    "                sourcetype = 'geojson',\n",
    "                source = chi_comm_shape,\n",
    "                type = 'fill',\n",
    "                color = 'rgba(40,0,113,0.8)'\n",
    "            )\n",
    "        ],\n",
    "        bearing = 0,\n",
    "        center = dict(lat=41.881832, lon = -87.623177),\n",
    "        pitch = 0,\n",
    "        zoom = 9, \n",
    "        style = 'light'\n",
    "    ),\n",
    ")\n",
    "\n",
    "fig = dict(data = data, layout = layout)\n",
    "py.iplot(fig)'''"
   ]
  },
  {
   "cell_type": "code",
   "execution_count": 245,
   "metadata": {},
   "outputs": [
    {
     "data": {
      "text/html": [
       "<div style=\"width:100%;\"><div style=\"position:relative;width:100%;height:0;padding-bottom:60%;\"><iframe src=\"data:text/html;charset=utf-8;base64,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\" style=\"position:absolute;width:100%;height:100%;left:0;top:0;border:none !important;\" allowfullscreen webkitallowfullscreen mozallowfullscreen></iframe></div></div>"
      ],
      "text/plain": [
       "<folium.folium.Map at 0x10e9385f8>"
      ]
     },
     "execution_count": 245,
     "metadata": {},
     "output_type": "execute_result"
    }
   ],
   "source": [
    "m = folium.Map(location = [41.881832, -87.623177],\n",
    "              tiles = 'Mapbox Bright',\n",
    "              zoom_start = 9)\n",
    "\n",
    "folium.LayerControl().add_to(m)\n",
    "\n",
    "m\n"
   ]
  },
  {
   "cell_type": "code",
   "execution_count": 364,
   "metadata": {},
   "outputs": [],
   "source": [
    "chl_long_2014 = chl_long[chl_long['Year'] == '2014']\n",
    "\n",
    "chl_2014 = chl_long_2014.groupby(['Community Area Name']).sum()\n",
    "\n",
    "chl_2014 = chl_2014.reset_index()\n",
    "\n",
    "centers = pd.read_csv(\"centers2.csv\")\n",
    "\n",
    "\n",
    "threshold_scale = split_six(chl_2014['Reported Cases'])\n",
    "\n",
    "\n",
    "m = folium.Map(location = [41.881832, -87.623177],\n",
    "              tiles = 'Mapbox Bright',\n",
    "              zoom_start = 9)\n",
    "\n",
    "folium.Marker([41.881832, -87.623177], popup ='<i>Chicago</i>').add_to(m)\n",
    "\n",
    "for l in range(0, len(centers)):\n",
    "    \n",
    "    lat = float(centers[\"Latitude\"][l])\n",
    "    lng = float(centers[\"Longitude\"][l])\n",
    "    center_name = str(centers['Name'][l])\n",
    "    \n",
    "    #print(l)\n",
    "    folium.Marker([lat, lng]).add_to(m)\n",
    "\n",
    "m.choropleth(\n",
    "    \n",
    "    geo_data = chi_comm_shape,\n",
    "    name = 'Community area',\n",
    "    data = chl_2014,\n",
    "    key_on = 'feature.id',\n",
    "    columns=['Community Area Name','Reported Cases'],\n",
    "    fill_color = 'YlGn',\n",
    "    threshold_scale = threshold_scale\n",
    "    \n",
    "\n",
    ")\n",
    "\n",
    "folium.LayerControl().add_to(m)\n",
    "\n",
    "m.save('map_test.html')"
   ]
  },
  {
   "cell_type": "code",
   "execution_count": 343,
   "metadata": {},
   "outputs": [
    {
     "data": {
      "text/plain": [
       "numpy.float64"
      ]
     },
     "execution_count": 343,
     "metadata": {},
     "output_type": "execute_result"
    }
   ],
   "source": []
  },
  {
   "cell_type": "code",
   "execution_count": null,
   "metadata": {
    "collapsed": true
   },
   "outputs": [],
   "source": []
  }
 ],
 "metadata": {
  "kernelspec": {
   "display_name": "Python 3",
   "language": "python",
   "name": "python3"
  },
  "language_info": {
   "codemirror_mode": {
    "name": "ipython",
    "version": 3
   },
   "file_extension": ".py",
   "mimetype": "text/x-python",
   "name": "python",
   "nbconvert_exporter": "python",
   "pygments_lexer": "ipython3",
   "version": "3.6.1"
  }
 },
 "nbformat": 4,
 "nbformat_minor": 2
}
